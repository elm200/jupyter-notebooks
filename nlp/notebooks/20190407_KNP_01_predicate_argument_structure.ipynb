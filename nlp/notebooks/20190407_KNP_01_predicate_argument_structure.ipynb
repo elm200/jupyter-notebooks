{
 "cells": [
  {
   "cell_type": "markdown",
   "metadata": {},
   "source": [
    "# KNP: 述語項構造"
   ]
  },
  {
   "cell_type": "markdown",
   "metadata": {},
   "source": [
    "## KNP の生の出力\n",
    "- Jupyter notebook tips: Python の変数の頭に $ をつけるとあたかも shell 変数のように使える（！）"
   ]
  },
  {
   "cell_type": "code",
   "execution_count": 1,
   "metadata": {},
   "outputs": [
    {
     "name": "stdout",
     "output_type": "stream",
     "text": [
      "# S-ID:1 KNP:4.19-CF1.1 DATE:2019/04/07 SCORE:-8.00888\r\n",
      "* 1D <文頭><一人称><SM-主体><SM-人><ハ><助詞><体言><一文字漢字><係:未格><提題><区切:3-5><非主題><格要素><連用要素><正規化代表表記:私/わたし><主辞代表表記:私/わたし>\r\n",
      "+ 1D <文頭><一人称><SM-主体><SM-人><ハ><助詞><体言><一文字漢字><係:未格><提題><区切:3-5><非主題><格要素><連用要素><名詞項候補><先行詞候補><正規化代表表記:私/わたし><照応詞候補:私><解析格:ガ><EID:0>\r\n",
      "私 わたし 私 名詞 6 普通名詞 1 * 0 * 0 \"代表表記:私/わたし 漢字読み:訓 カテゴリ:人\" <代表表記:私/わたし><漢字読み:訓><カテゴリ:人><正規化代表表記:私/わたし><文頭><一人称><漢字><かな漢字><名詞相当語><自立><内容語><タグ単位始><文節始><文節主辞>\r\n",
      "は は は 助詞 9 副助詞 2 * 0 * 0 NIL <かな漢字><ひらがな><付属>\r\n",
      "* -1D <文末><否定表現><〜ない><用言:動><レベル:C><区切:5-5><ID:（文末）><提題受:30><主節><動態述語><正規化代表表記:走る/はしる><主辞代表表記:走る/はしる>\r\n",
      "+ -1D <文末><否定表現><〜ない><用言:動><レベル:C><区切:5-5><ID:（文末）><提題受:30><主節><動態述語><正規化代表表記:走る/はしる><用言代表表記:走る/はしる><時制-未来><主題格:一人称優位><格関係0:ガ:私><格解析結果:走る/はしる:動13:ガ/N/私/0/0/1;ヲ/U/-/-/-/-;ニ/U/-/-/-/-;ト/U/-/-/-/-;デ/U/-/-/-/-;カラ/U/-/-/-/-;ヨリ/U/-/-/-/-;マデ/U/-/-/-/-;時間/U/-/-/-/-;外の関係/U/-/-/-/-;ノ/U/-/-/-/-;修飾/U/-/-/-/-;トスル/U/-/-/-/-;ニオク/U/-/-/-/-;ニカンスル/U/-/-/-/-;ニヨル/U/-/-/-/-;ヲフクメル/U/-/-/-/-;ヲハジメル/U/-/-/-/-;ヲノゾク/U/-/-/-/-;ヲツウジル/U/-/-/-/-><EID:1><項構造:走る/はしる:動13:ガ/N/私/0>\r\n",
      "走って はしって 走る 動詞 2 * 0 子音動詞ラ行 10 タ系連用テ形 14 \"代表表記:走る/はしる\" <代表表記:走る/はしる><正規化代表表記:走る/はしる><かな漢字><活用語><自立><内容語><タグ単位始><文節始><文節主辞>\r\n",
      "い い いる 接尾辞 14 動詞性接尾辞 7 母音動詞 1 未然形 3 \"代表表記:いる/いる\" <代表表記:いる/いる><正規化代表表記:いる/いる><かな漢字><ひらがな><活用語><付属>\r\n",
      "ない ない ない 接尾辞 14 形容詞性述語接尾辞 5 イ形容詞アウオ段 18 基本形 2 \"代表表記:ない/ない\" <代表表記:ない/ない><正規化代表表記:ない/ない><文末><表現文末><かな漢字><ひらがな><活用語><否定><付属>\r\n",
      "EOS\r\n"
     ]
    }
   ],
   "source": [
    "line = \"私は走っていない\"\n",
    "!echo $line | juman | knp  -tab -anaphora"
   ]
  },
  {
   "cell_type": "markdown",
   "metadata": {},
   "source": [
    "## pyknp を使用して述語項構造を抽出してみる"
   ]
  },
  {
   "cell_type": "code",
   "execution_count": 30,
   "metadata": {},
   "outputs": [],
   "source": [
    "import re\n",
    "from pyknp import KNP\n",
    "\n",
    "\n",
    "def analyze_pas(sentence):\n",
    "    knp = KNP(option = '-tab -anaphora', jumanpp=False)\n",
    "    result = knp.parse(sentence)\n",
    "    for b in  result.bnst_list():\n",
    "        match = re.search(r\"<項構造:(.+)>\", b.spec())\n",
    "        if match:\n",
    "            pas =  match.group(1)\n",
    "            items = pas.split(\":\")\n",
    "            print(b.bnst_id, items)"
   ]
  },
  {
   "cell_type": "code",
   "execution_count": 31,
   "metadata": {},
   "outputs": [
    {
     "name": "stdout",
     "output_type": "stream",
     "text": [
      "4 ['読む/よむ', '動2', 'ヲ/N/本/5;時間/C/昨日/2;ガ/C/花子/3']\n",
      "5 ['本/ほん', '名1', 'ノ/O/太郎/1']\n",
      "7 ['渡す/わたす', '動2', '時間/C/今日/0;ガ/N/太郎/1;ヲ/C/本/5;ニ/C/次郎/6']\n"
     ]
    }
   ],
   "source": [
    "sentence = '今日太郎は昨日花子が読んでいた本を次郎に渡した'\n",
    "analyze_pas(sentence)"
   ]
  },
  {
   "cell_type": "code",
   "execution_count": 32,
   "metadata": {},
   "outputs": [
    {
     "name": "stdout",
     "output_type": "stream",
     "text": [
      "3 ['駅/えき', '名1']\n",
      "4 ['迎える/むかえる', '動3', 'ガ/O/私/1;ヲ/O/彼/2']\n",
      "5 ['行く/いく', '動9', '外の関係/N/とき/6;ガ/C/私/1;ヲ/C/彼/2;マデ/C/駅/3']\n",
      "8 ['降る/ふる', '動1', '時間/C/昨日/0;ガ/C/小雨/7']\n"
     ]
    }
   ],
   "source": [
    "sentence = \"昨日私が彼を駅まで迎えに行ったとき、小雨が降っていた\"\n",
    "analyze_pas(sentence)"
   ]
  },
  {
   "cell_type": "code",
   "execution_count": 33,
   "metadata": {},
   "outputs": [
    {
     "name": "stdout",
     "output_type": "stream",
     "text": [
      "0 ['非常だ/ひじょうだ', '形1']\n",
      "1 ['情報/じょうほう+量/りょう', '名1']\n",
      "2 ['多い/おおい', '形11', '外の関係/N/結果/4;修飾/C/非常に/0;ガ/N/情報量/2']\n",
      "5 ['特徴/とくちょう', '判2', 'ガ/C/の/6']\n",
      "8 ['使う/つかう', '動3', 'ヲ/C/それ/9']\n",
      "10 ['抽出/ちゅうしゅつ', '動2', '外の関係/N/こと/15;ヲ/C/述語項構造/13']\n",
      "12 ['試みる/こころみる', '動2', '時間/N/今日/8;ヲ/C/こと/15']\n"
     ]
    }
   ],
   "source": [
    "sentence = \"非常に情報量の多い結果が出力されるのが特徴だが、今日はそれを使って述語項構造を抽出することを試みた\"\n",
    "analyze_pas(sentence)"
   ]
  }
 ],
 "metadata": {
  "kernelspec": {
   "display_name": "Python 3",
   "language": "python",
   "name": "python3"
  },
  "language_info": {
   "codemirror_mode": {
    "name": "ipython",
    "version": 3
   },
   "file_extension": ".py",
   "mimetype": "text/x-python",
   "name": "python",
   "nbconvert_exporter": "python",
   "pygments_lexer": "ipython3",
   "version": "3.6.8"
  }
 },
 "nbformat": 4,
 "nbformat_minor": 2
}
